{
 "cells": [
  {
   "cell_type": "markdown",
   "metadata": {},
   "source": [
    "# Prueba Tecnica\n",
    "\n",
    "En este notebook, en un primer momento solo se evaluara que los resultados sean correctos. Luego, se revisará temas de optimizacion de memoria y eficiencia."
   ]
  },
  {
   "cell_type": "code",
   "execution_count": 3,
   "metadata": {},
   "outputs": [],
   "source": [
    "import pandas as pd\n",
    "import emoji\n",
    "from q1_memory import q1_memory\n",
    "from q2_memory import q2_memory\n",
    "from q3_memory import q3_memory\n",
    "\n",
    "test_file_path = \"../test/resources/twitter_test.json\"\n",
    "file_path = \"../farmers-protest-tweets-2021-2-4.json\""
   ]
  },
  {
   "cell_type": "code",
   "execution_count": 4,
   "metadata": {},
   "outputs": [],
   "source": [
    "from memory_profiler import memory_usage"
   ]
  },
  {
   "cell_type": "code",
   "execution_count": 6,
   "metadata": {},
   "outputs": [
    {
     "name": "stdout",
     "output_type": "stream",
     "text": [
      "Average memory usage: 411.5717213114754 MiB\n",
      "Maximum memory usage: 466.07421875 MiB\n"
     ]
    }
   ],
   "source": [
    "exam = q1_memory(file_path)\n",
    "mem_usage = memory_usage((q1_memory, (file_path,), {}))\n",
    "print(f\"Average memory usage: {sum(mem_usage) / len(mem_usage)} MiB\")\n",
    "print(f\"Maximum memory usage: {max(mem_usage)} MiB\")"
   ]
  },
  {
   "cell_type": "code",
   "execution_count": 7,
   "metadata": {},
   "outputs": [
    {
     "name": "stdout",
     "output_type": "stream",
     "text": [
      "5.8084704875946045\n",
      "1727450197.4192607\n"
     ]
    }
   ],
   "source": [
    "import time\n",
    "start_time = time.time()\n",
    "exam = q1_memory(file_path)\n",
    "end_time = time.time()\n",
    "total_time = end_time - start_time\n",
    "print(total_time)\n",
    "print(end_time)"
   ]
  },
  {
   "cell_type": "code",
   "execution_count": 4,
   "metadata": {},
   "outputs": [
    {
     "data": {
      "text/plain": [
       "[('🤫', 2), ('🤔', 2), ('🌾', 1), ('🚜', 1), ('💪', 1)]"
      ]
     },
     "execution_count": 4,
     "metadata": {},
     "output_type": "execute_result"
    }
   ],
   "source": [
    "exam = q2_memory(test_file_path)\n",
    "exam"
   ]
  },
  {
   "cell_type": "code",
   "execution_count": 5,
   "metadata": {},
   "outputs": [
    {
     "data": {
      "text/plain": [
       "[('mandeeppunia1', 2),\n",
       " ('DelhiPolice', 1),\n",
       " ('Kisanektamorcha', 1),\n",
       " ('ReallySwara', 1),\n",
       " ('narendramodi', 1),\n",
       " ('rohini_sgh', 1)]"
      ]
     },
     "execution_count": 5,
     "metadata": {},
     "output_type": "execute_result"
    }
   ],
   "source": [
    "exam = q3_memory(test_file_path)\n",
    "exam"
   ]
  }
 ],
 "metadata": {
  "kernelspec": {
   "display_name": "Python 3 (ipykernel)",
   "language": "python",
   "name": "python3"
  },
  "language_info": {
   "codemirror_mode": {
    "name": "ipython",
    "version": 3
   },
   "file_extension": ".py",
   "mimetype": "text/x-python",
   "name": "python",
   "nbconvert_exporter": "python",
   "pygments_lexer": "ipython3",
   "version": "3.11.10"
  }
 },
 "nbformat": 4,
 "nbformat_minor": 4
}
