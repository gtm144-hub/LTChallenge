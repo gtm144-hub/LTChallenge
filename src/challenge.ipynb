{
 "cells": [
  {
   "cell_type": "markdown",
   "metadata": {},
   "source": [
    "# Prueba Tecnica LT Challenge\n",
    "\n",
    "En este notebook, se enfocará en dos enfoques diferentes para cada una de las funciones: tiempo de ejecución y optimización de memoria. Tomaremos q2 (Top 10 de los emojis más usados) como base de nuestra evaluación debido a que la lógica es similar y se repite en todas las funciones. De esta forma, su primera versión servirá para evaluar resultados con las nuevas integraciones. \n",
    "\n",
    "Con el objetivo de estructurar este proyecto, el siguiente banco de ideas permite dar un seguimiento a conceptos o tecnologías que podrían ser útiles al proyecto y su estado en la inclusión del mismo:\n",
    "\n",
    "| Foco            | Concepto                                                         | Estado                           |\n",
    "|-----------------|------------------------------------------------------------------|----------------------------------|\n",
    "| tiempo & memoria| **Pandas Basico**: Libreria estandar para procesamiento de datos | Incluida primera version              |\n",
    "| tiempo & memoria| **Chunks**: Es necesario particionar los datos                   | Incluida primera version              |\n",
    "| tiempo          | **Multiprocessing**: Procesamiento paralelo                      | Pendiente                        |\n",
    "| tiempo & meoria | **Polars**: Libreria escrita en Rust                             | Pendiende |\n",
    "| memoria         | **Generators**: Lazy evaluation e iterators sirven para optimizacion de memoria | Pendiente                        |\n",
    "| memoria         | **Pandas Avanzado**: Aplicar tecnicas como sparse                | pendiente                        |\n",
    "\n",
    "Ahora, podemos dar paso al análisis q2"
   ]
  },
  {
   "cell_type": "markdown",
   "metadata": {},
   "source": [
    "----\n",
    "## Q2: Análisis top 10 de los emojis más usados en los Tweets\n",
    "\n",
    "### Preprocesamiento e Importación de Librerías"
   ]
  },
  {
   "cell_type": "code",
   "execution_count": 1,
   "metadata": {},
   "outputs": [],
   "source": [
    "import pandas as pd\n",
    "import emoji\n",
    "import time\n",
    "import os\n",
    "from typing import List, Tuple\n",
    "from memory_profiler import memory_usage\n",
    "from memory_profiler import profile\n",
    "import matplotlib.pyplot as plt"
   ]
  },
  {
   "cell_type": "code",
   "execution_count": 2,
   "metadata": {},
   "outputs": [],
   "source": [
    "from q2_memory import q2_memory\n",
    "from stats import get_file_path\n",
    "\n",
    "# Usaremos los datos proveídos en el challenge pero desde google cloud storage\n",
    "os.environ[\"GOOGLE_APPLICATION_CREDENTIALS\"] = \"../sa.json\"\n",
    "bucket_name = 'test_jobs144'\n",
    "file_name = 'lt/farmers-protest-tweets-2021-2-4.json'\n",
    "temp_file_path = get_file_path(bucket_name, file_name)"
   ]
  },
  {
   "cell_type": "markdown",
   "metadata": {},
   "source": [
    "### Estudio Codigo Benchmark (Primera Version)\n",
    "Este código fue desarrollado de forma básica a los dos días de iniciar el challenge con el fin de tener un punto de referencia. Esta función es igual los dos enfoques por razones de practicidad en el desarrollo del proyecto.\n",
    "\n",
    "#### Explicacion codigo"
   ]
  },
  {
   "cell_type": "code",
   "execution_count": 3,
   "metadata": {},
   "outputs": [],
   "source": [
    "%load_ext memory_profiler\n",
    "\n",
    "@profile\n",
    "def q2(file_path: str) -> List[Tuple[str, int]]:\n",
    "    \"\"\"\n",
    "    Analyze Twitter data to count emojis for the top 10 emojis.\n",
    "    \n",
    "    Args:\n",
    "    file_path (str): Path to file containing Twitter data.\n",
    "    \n",
    "    Returns:\n",
    "    List[Tuple[str, int]]: Top 10 days with most emojis and their emoji counts\n",
    "    \"\"\"\n",
    "    \n",
    "    chunks = pd.read_json(file_path, lines=True, chunksize=10000) # Extraemos el archivo y particionamos en particiones de 10000 lineas cada uno\n",
    "    \n",
    "    dfs = []\n",
    "    \n",
    "    for chunk in chunks: # Por cada chuck (particion) extraemos un dataframe con los emojis y sus contadores\n",
    "        emojis_list = chunk['content'].apply(extract_emojis).explode() # Extraemos series.pandas continiendo la lista de emojis para luego aplanarlos en una serie de strings \n",
    "        emojis_count = emojis_list.to_frame(name='emoji').groupby('emoji').size().reset_index(name='count') # Realizamos conteo por emoji\n",
    "        dfs.append(emojis_count)\n",
    "    \n",
    "    all_counts = pd.concat(dfs) # Concatenamos dataframes derivados de los chunks\n",
    "    final_counts = all_counts.groupby('emoji')['count'].sum().reset_index() # Realizamos la correspondiente agregacion de acuerdo al emoji\n",
    "    top_10_days = final_counts.sort_values('count', ascending=False).head(10) # Seleccionamos el top 10\n",
    "    \n",
    "    return [(row['emoji'], int(row['count'])) for _, row in top_10_days.iterrows()]\n",
    "\n",
    "def extract_emojis(text: str) -> list: # Extrae todos los emojis que pueda tener un tweet\n",
    "    \"\"\"Get emojis in a given text.\"\"\"\n",
    "    return [x for x in text if x in emoji.EMOJI_DATA]"
   ]
  },
  {
   "cell_type": "markdown",
   "metadata": {},
   "source": [
    "#### Extraemos metricas de uso memoria y tiempo de procesamiento"
   ]
  },
  {
   "cell_type": "code",
   "execution_count": 4,
   "metadata": {},
   "outputs": [
    {
     "name": "stdout",
     "output_type": "stream",
     "text": [
      "ERROR: Could not find file /tmp/ipykernel_12845/3316400420.py\n"
     ]
    }
   ],
   "source": [
    "mem_benchmark_usage = memory_usage((q2, (temp_file_path,), {}))"
   ]
  },
  {
   "cell_type": "code",
   "execution_count": 5,
   "metadata": {},
   "outputs": [
    {
     "name": "stdout",
     "output_type": "stream",
     "text": [
      "Promedio de memoria usada en benchmark: 411.19557045990564 MiB\n",
      "Maximo de memoria en benchmark: 453.97265625 MiB\n"
     ]
    }
   ],
   "source": [
    "print(f\"Promedio de memoria usada en benchmark: {sum(mem_benchmark_usage) / len(mem_benchmark_usage)} MiB\")\n",
    "print(f\"Maximo de memoria en benchmark: {max(mem_benchmark_usage)} MiB\")"
   ]
  },
  {
   "cell_type": "code",
   "execution_count": 6,
   "metadata": {},
   "outputs": [
    {
     "name": "stdout",
     "output_type": "stream",
     "text": [
      "ERROR: Could not find file /tmp/ipykernel_12845/3316400420.py\n",
      "Total de tiempo usado en benchmark: 10.30360198020935\n"
     ]
    }
   ],
   "source": [
    "start_time = time.time()\n",
    "exam = q2(temp_file_path)\n",
    "end_time = time.time()\n",
    "total_time = end_time - start_time\n",
    "print(f\"Total de tiempo usado en benchmark: {total_time}\")"
   ]
  },
  {
   "cell_type": "markdown",
   "metadata": {},
   "source": [
    "### Segunda Version\n",
    "#### Enfoque memoria: Introducimos generators para ver resultados"
   ]
  },
  {
   "cell_type": "code",
   "execution_count": 7,
   "metadata": {},
   "outputs": [],
   "source": [
    "from typing import List, Tuple, Generator\n",
    "def q2_mem(file_path: str) -> List[Tuple[str, int]]:\n",
    "    \"\"\"\n",
    "    Analyze Twitter data to count emojis for the top 10 emojis.\n",
    "    \n",
    "    Args:\n",
    "    file_path (str): Path to file containing Twitter data.\n",
    "    \n",
    "    Returns:\n",
    "    List[Tuple[str, int]]: Top 10 emojis with their counts\n",
    "    \"\"\"\n",
    "    \n",
    "    def process_chunk(chunk: pd.DataFrame) -> pd.DataFrame:\n",
    "        emojis_series = chunk['content'].apply(extract_emojis).explode() # Intente reducir memoria con sparse o category pero no baja \n",
    "        return emojis_series.value_counts().reset_index(name='count')\n",
    "\n",
    "    def chunk_generator():\n",
    "        for chunk in pd.read_json(file_path, lines=True, chunksize=4000): # Miminimizamos el numero de lineas en cada batch da resultado\n",
    "            yield process_chunk(chunk)\n",
    "\n",
    "    emoji_counts = pd.concat(chunk_generator(), ignore_index=True)\n",
    "    \n",
    "    final_counts = emoji_counts.groupby('content')['count'].sum().reset_index()\n",
    "    top_10_days = final_counts.sort_values('count', ascending=False).head(10)\n",
    "\n",
    "    return list(zip(top_10_days['content'], top_10_days['count'].astype(int)))\n"
   ]
  },
  {
   "cell_type": "code",
   "execution_count": 8,
   "metadata": {},
   "outputs": [],
   "source": [
    "mem_gen_usage = memory_usage((q2_mem, (temp_file_path,), {}))"
   ]
  },
  {
   "cell_type": "code",
   "execution_count": 9,
   "metadata": {},
   "outputs": [
    {
     "name": "stdout",
     "output_type": "stream",
     "text": [
      "Promedio de memoria usada segunda version: 394.3105788934426 MiB\n",
      "Maximo de memoria segunda version: 400.03515625 MiB\n"
     ]
    }
   ],
   "source": [
    "print(f\"Promedio de memoria usada segunda version: {sum(mem_gen_usage) / len(mem_gen_usage)} MiB\")\n",
    "print(f\"Maximo de memoria segunda version: {max(mem_gen_usage)} MiB\")"
   ]
  },
  {
   "cell_type": "markdown",
   "metadata": {},
   "source": [
    "### Evaluacion Resultados de Opmizacion de Memoria\n",
    "\n",
    "Al observar los resultados del histograma, observamos que el consumo con generators es compacto y menor a comparacion de la primera version del codigo, concluyendo su integracion en el codigo."
   ]
  },
  {
   "cell_type": "code",
   "execution_count": 10,
   "metadata": {},
   "outputs": [
    {
     "data": {
      "image/png": "[encoded data removed]",
      "text/plain": [
       "<Figure size 640x480 with 1 Axes>"
      ]
     },
     "metadata": {},
     "output_type": "display_data"
    }
   ],
   "source": [
    "import numpy as np\n",
    "min_val = min(min(mem_benchmark_usage), min(mem_gen_usage))\n",
    "max_val = max(max(mem_benchmark_usage), max(mem_gen_usage))\n",
    "bins = np.linspace(min_val, max_val, 20)\n",
    "plt.hist(mem_benchmark_usage, bins=bins, edgecolor='blue', alpha=0.6, label='Primera version')\n",
    "plt.hist(mem_gen_usage, bins=bins, edgecolor='red', alpha=0.6, label='Segunda version')\n",
    "plt.xlabel('Memoria Mib')\n",
    "plt.ylabel('Frequencia de utilizacion')\n",
    "plt.title('Histograma Consumo de Memoria')\n",
    "plt.legend()\n",
    "plt.show()"
   ]
  },
  {
   "cell_type": "markdown",
   "metadata": {},
   "source": [
    "#### Enfoque tiempos de ejecucion: Introducimos multiprocessing para ver resultados"
   ]
  },
  {
   "cell_type": "code",
   "execution_count": 13,
   "metadata": {},
   "outputs": [],
   "source": [
    "import multiprocessing as mp\n",
    "from functools import partial\n",
    "\n",
    "def process_chunk(chunk: pd.DataFrame) -> pd.DataFrame:\n",
    "    emojis_list = chunk['content'].apply(extract_emojis).explode()\n",
    "    return emojis_list.to_frame(name='emoji').groupby('emoji').size().reset_index(name='count')\n",
    "\n",
    "def q2_time(file_path: str) -> List[Tuple[str, int]]:\n",
    "    \"\"\"\n",
    "    Analyze Twitter data to count emojis for the top 10 emojis using multiprocessing.\n",
    "    \n",
    "    Args:\n",
    "    file_path (str): Path to file containing Twitter data.\n",
    "    \n",
    "    Returns:\n",
    "    List[Tuple[str, int]]: Top 10 emojis with most occurrences and their counts\n",
    "    \"\"\"\n",
    "    \n",
    "    chunks = pd.read_json(file_path, lines=True, chunksize=2000) # Reducimos el tamano de las particiones sin sobrepasarnos para reducir el small file problems\n",
    "    \n",
    "    num_cores = mp.cpu_count()\n",
    "    \n",
    "    with mp.Pool(num_cores) as pool:\n",
    "        dfs = pool.map(process_chunk, chunks) #Procesaremos chunks en paralelo\n",
    "    \n",
    "    all_counts = pd.concat(dfs)\n",
    "    final_counts = all_counts.groupby('emoji')['count'].sum().reset_index()\n",
    "    top_10_days = final_counts.sort_values('count', ascending=False).head(10)\n",
    "    \n",
    "    return list(zip(top_10_days['emoji'], top_10_days['count'].astype(int)))"
   ]
  },
  {
   "cell_type": "code",
   "execution_count": 14,
   "metadata": {},
   "outputs": [
    {
     "name": "stdout",
     "output_type": "stream",
     "text": [
      "Total de tiempo usado en la segunda version: 8.558876752853394\n"
     ]
    }
   ],
   "source": [
    "start_time = time.time()\n",
    "exam = q2_time(temp_file_path)\n",
    "end_time = time.time()\n",
    "total_time = end_time - start_time\n",
    "print(f\"Total de tiempo usado en la segunda version: {total_time}\")"
   ]
  },
  {
   "cell_type": "markdown",
   "metadata": {},
   "source": [
    "#### Como podemos observar se reduce el tiempo de ejecucion con multiprocessing los cuales sera integrados en esta segunda version"
   ]
  },
  {
   "cell_type": "markdown",
   "metadata": {},
   "source": [
    "----\n",
    "NOTA: Se evaluo polars pero surgio un bug que en esta entrega no alcanzara el tiempo para ser entregado."
   ]
  },
  {
   "cell_type": "code",
   "execution_count": 15,
   "metadata": {},
   "outputs": [
    {
     "ename": "ComputeError",
     "evalue": "expected null in json value, got object",
     "output_type": "error",
     "traceback": [
      "\u001b[0;31m---------------------------------------------------------------------------\u001b[0m",
      "\u001b[0;31mComputeError\u001b[0m                              Traceback (most recent call last)",
      "Cell \u001b[0;32mIn[15], line 2\u001b[0m\n\u001b[1;32m      1\u001b[0m \u001b[38;5;28;01mimport\u001b[39;00m \u001b[38;5;21;01mpolars\u001b[39;00m \u001b[38;5;28;01mas\u001b[39;00m \u001b[38;5;21;01mpl\u001b[39;00m\n\u001b[0;32m----> 2\u001b[0m \u001b[38;5;28;01mfor\u001b[39;00m i \u001b[38;5;129;01min\u001b[39;00m \u001b[43mpl\u001b[49m\u001b[38;5;241;43m.\u001b[39;49m\u001b[43mread_ndjson\u001b[49m\u001b[43m(\u001b[49m\u001b[43mtemp_file_path\u001b[49m\u001b[43m,\u001b[49m\u001b[43m \u001b[49m\u001b[43mbatch_size\u001b[49m\u001b[38;5;241;43m=\u001b[39;49m\u001b[38;5;241;43m10\u001b[39;49m\u001b[43m)\u001b[49m:\n\u001b[1;32m      3\u001b[0m     \u001b[38;5;28mprint\u001b[39m(i)\n\u001b[1;32m      4\u001b[0m     sdf\u001b[38;5;241m.\u001b[39mselect(pl\u001b[38;5;241m.\u001b[39mcol(\u001b[38;5;124m\"\u001b[39m\u001b[38;5;124mcontent\u001b[39m\u001b[38;5;124m\"\u001b[39m))\n",
      "File \u001b[0;32m/usr/local/lib/python3.11/site-packages/polars/io/ndjson.py:165\u001b[0m, in \u001b[0;36mread_ndjson\u001b[0;34m(source, schema, schema_overrides, infer_schema_length, batch_size, n_rows, low_memory, rechunk, row_index_name, row_index_offset, ignore_errors, storage_options, retries, file_cache_ttl, include_file_paths)\u001b[0m\n\u001b[1;32m    145\u001b[0m         df \u001b[38;5;241m=\u001b[39m df\u001b[38;5;241m.\u001b[39mhead(n_rows)\n\u001b[1;32m    147\u001b[0m     \u001b[38;5;28;01mreturn\u001b[39;00m df\n\u001b[1;32m    149\u001b[0m \u001b[38;5;28;01mreturn\u001b[39;00m \u001b[43mscan_ndjson\u001b[49m\u001b[43m(\u001b[49m\n\u001b[1;32m    150\u001b[0m \u001b[43m    \u001b[49m\u001b[43msource\u001b[49m\u001b[43m,\u001b[49m\n\u001b[1;32m    151\u001b[0m \u001b[43m    \u001b[49m\u001b[43mschema\u001b[49m\u001b[38;5;241;43m=\u001b[39;49m\u001b[43mschema\u001b[49m\u001b[43m,\u001b[49m\n\u001b[1;32m    152\u001b[0m \u001b[43m    \u001b[49m\u001b[43mschema_overrides\u001b[49m\u001b[38;5;241;43m=\u001b[39;49m\u001b[43mschema_overrides\u001b[49m\u001b[43m,\u001b[49m\n\u001b[1;32m    153\u001b[0m \u001b[43m    \u001b[49m\u001b[43minfer_schema_length\u001b[49m\u001b[38;5;241;43m=\u001b[39;49m\u001b[43minfer_schema_length\u001b[49m\u001b[43m,\u001b[49m\n\u001b[1;32m    154\u001b[0m \u001b[43m    \u001b[49m\u001b[43mbatch_size\u001b[49m\u001b[38;5;241;43m=\u001b[39;49m\u001b[43mbatch_size\u001b[49m\u001b[43m,\u001b[49m\n\u001b[1;32m    155\u001b[0m \u001b[43m    \u001b[49m\u001b[43mn_rows\u001b[49m\u001b[38;5;241;43m=\u001b[39;49m\u001b[43mn_rows\u001b[49m\u001b[43m,\u001b[49m\n\u001b[1;32m    156\u001b[0m \u001b[43m    \u001b[49m\u001b[43mlow_memory\u001b[49m\u001b[38;5;241;43m=\u001b[39;49m\u001b[43mlow_memory\u001b[49m\u001b[43m,\u001b[49m\n\u001b[1;32m    157\u001b[0m \u001b[43m    \u001b[49m\u001b[43mrechunk\u001b[49m\u001b[38;5;241;43m=\u001b[39;49m\u001b[43mrechunk\u001b[49m\u001b[43m,\u001b[49m\n\u001b[1;32m    158\u001b[0m \u001b[43m    \u001b[49m\u001b[43mrow_index_name\u001b[49m\u001b[38;5;241;43m=\u001b[39;49m\u001b[43mrow_index_name\u001b[49m\u001b[43m,\u001b[49m\n\u001b[1;32m    159\u001b[0m \u001b[43m    \u001b[49m\u001b[43mrow_index_offset\u001b[49m\u001b[38;5;241;43m=\u001b[39;49m\u001b[43mrow_index_offset\u001b[49m\u001b[43m,\u001b[49m\n\u001b[1;32m    160\u001b[0m \u001b[43m    \u001b[49m\u001b[43mignore_errors\u001b[49m\u001b[38;5;241;43m=\u001b[39;49m\u001b[43mignore_errors\u001b[49m\u001b[43m,\u001b[49m\n\u001b[1;32m    161\u001b[0m \u001b[43m    \u001b[49m\u001b[43minclude_file_paths\u001b[49m\u001b[38;5;241;43m=\u001b[39;49m\u001b[43minclude_file_paths\u001b[49m\u001b[43m,\u001b[49m\n\u001b[1;32m    162\u001b[0m \u001b[43m    \u001b[49m\u001b[43mretries\u001b[49m\u001b[38;5;241;43m=\u001b[39;49m\u001b[43mretries\u001b[49m\u001b[43m,\u001b[49m\n\u001b[1;32m    163\u001b[0m \u001b[43m    \u001b[49m\u001b[43mstorage_options\u001b[49m\u001b[38;5;241;43m=\u001b[39;49m\u001b[43mstorage_options\u001b[49m\u001b[43m,\u001b[49m\n\u001b[1;32m    164\u001b[0m \u001b[43m    \u001b[49m\u001b[43mfile_cache_ttl\u001b[49m\u001b[38;5;241;43m=\u001b[39;49m\u001b[43mfile_cache_ttl\u001b[49m\u001b[43m,\u001b[49m\n\u001b[0;32m--> 165\u001b[0m \u001b[43m\u001b[49m\u001b[43m)\u001b[49m\u001b[38;5;241;43m.\u001b[39;49m\u001b[43mcollect\u001b[49m\u001b[43m(\u001b[49m\u001b[43m)\u001b[49m\n",
      "File \u001b[0;32m/usr/local/lib/python3.11/site-packages/polars/lazyframe/frame.py:2053\u001b[0m, in \u001b[0;36mLazyFrame.collect\u001b[0;34m(self, type_coercion, predicate_pushdown, projection_pushdown, simplify_expression, slice_pushdown, comm_subplan_elim, comm_subexpr_elim, cluster_with_columns, collapse_joins, no_optimization, streaming, engine, background, _eager, **_kwargs)\u001b[0m\n\u001b[1;32m   2051\u001b[0m \u001b[38;5;66;03m# Only for testing purposes\u001b[39;00m\n\u001b[1;32m   2052\u001b[0m callback \u001b[38;5;241m=\u001b[39m _kwargs\u001b[38;5;241m.\u001b[39mget(\u001b[38;5;124m\"\u001b[39m\u001b[38;5;124mpost_opt_callback\u001b[39m\u001b[38;5;124m\"\u001b[39m, callback)\n\u001b[0;32m-> 2053\u001b[0m \u001b[38;5;28;01mreturn\u001b[39;00m wrap_df(\u001b[43mldf\u001b[49m\u001b[38;5;241;43m.\u001b[39;49m\u001b[43mcollect\u001b[49m\u001b[43m(\u001b[49m\u001b[43mcallback\u001b[49m\u001b[43m)\u001b[49m)\n",
      "\u001b[0;31mComputeError\u001b[0m: expected null in json value, got object"
     ]
    }
   ],
   "source": [
    "import polars as pl\n",
    "for i in pl.read_ndjson(temp_file_path, batch_size=10):\n",
    "    print(i)\n",
    "    sdf.select(pl.col(\"content\"))"
   ]
  }
 ],
 "metadata": {
  "kernelspec": {
   "display_name": "Python 3 (ipykernel)",
   "language": "python",
   "name": "python3"
  },
  "language_info": {
   "codemirror_mode": {
    "name": "ipython",
    "version": 3
   },
   "file_extension": ".py",
   "mimetype": "text/x-python",
   "name": "python",
   "nbconvert_exporter": "python",
   "pygments_lexer": "ipython3",
   "version": "3.11.10"
  }
 },
 "nbformat": 4,
 "nbformat_minor": 4
}
