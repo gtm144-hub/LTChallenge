{
 "cells": [
  {
   "cell_type": "markdown",
   "metadata": {},
   "source": [
    "# Prueba Tecnica\n",
    "\n",
    "En este notebook, en un primer momento solo se evaluara que los resultados sean correctos. Luego, se revisará temas de optimizacion de memoria y eficiencia."
   ]
  },
  {
   "cell_type": "code",
   "execution_count": 1,
   "metadata": {},
   "outputs": [],
   "source": [
    "import pandas as pd\n",
    "import emoji\n",
    "from q1_memory import q1_memory\n",
    "from q2_memory import q2_memory\n",
    "\n",
    "test_file_path = \"../test/resources/twitter_test.json\"\n",
    "file_path = \"../farmers-protest-tweets-2021-2-4.json\""
   ]
  },
  {
   "cell_type": "code",
   "execution_count": 6,
   "metadata": {},
   "outputs": [
    {
     "ename": "NameError",
     "evalue": "name 'test_file_path' is not defined",
     "output_type": "error",
     "traceback": [
      "\u001b[0;31m---------------------------------------------------------------------------\u001b[0m",
      "\u001b[0;31mNameError\u001b[0m                                 Traceback (most recent call last)",
      "Cell \u001b[0;32mIn[6], line 3\u001b[0m\n\u001b[1;32m      1\u001b[0m \u001b[38;5;28;01mfrom\u001b[39;00m \u001b[38;5;21;01mq1_memory\u001b[39;00m \u001b[38;5;28;01mimport\u001b[39;00m q1_memory\n\u001b[0;32m----> 3\u001b[0m exam \u001b[38;5;241m=\u001b[39m q1_memory(\u001b[43mtest_file_path\u001b[49m)\n\u001b[1;32m      4\u001b[0m exam\n",
      "\u001b[0;31mNameError\u001b[0m: name 'test_file_path' is not defined"
     ]
    }
   ],
   "source": [
    "from q1_memory import q1_memory\n",
    "\n",
    "exam = q1_memory(test_file_path)\n",
    "exam"
   ]
  },
  {
   "cell_type": "code",
   "execution_count": 5,
   "metadata": {},
   "outputs": [
    {
     "data": {
      "text/plain": [
       "[('🤫', 2), ('🤔', 2), ('🌾', 1), ('🚜', 1), ('💪', 1)]"
      ]
     },
     "execution_count": 5,
     "metadata": {},
     "output_type": "execute_result"
    }
   ],
   "source": [
    "from q2_memory import q2_memory\n",
    "\n",
    "exam = q2_memory(test_file_path)\n",
    "exam"
   ]
  },
  {
   "cell_type": "code",
   "execution_count": 4,
   "metadata": {},
   "outputs": [
    {
     "data": {
      "text/plain": [
       "[('mandeeppunia1', 2),\n",
       " ('DelhiPolice', 1),\n",
       " ('Kisanektamorcha', 1),\n",
       " ('ReallySwara', 1),\n",
       " ('narendramodi', 1),\n",
       " ('rohini_sgh', 1)]"
      ]
     },
     "execution_count": 4,
     "metadata": {},
     "output_type": "execute_result"
    }
   ],
   "source": [
    "from q3_memory import q3_memory\n",
    "\n",
    "exam = q3_memory(test_file_path)\n",
    "exam"
   ]
  },
  {
   "cell_type": "code",
   "execution_count": 5,
   "metadata": {},
   "outputs": [
    {
     "data": {
      "text/plain": [
       "[(datetime.date(2021, 2, 13), 'MaanDee08215437'),\n",
       " (datetime.date(2021, 2, 20), 'MangalJ23056160'),\n",
       " (datetime.date(2021, 2, 19), 'Preetm91'),\n",
       " (datetime.date(2021, 2, 17), 'RaaJVinderkaur'),\n",
       " (datetime.date(2021, 2, 12), 'RanbirS00614606'),\n",
       " (datetime.date(2021, 2, 23), 'Surrypuria'),\n",
       " (datetime.date(2021, 2, 15), 'jot__b'),\n",
       " (datetime.date(2021, 2, 16), 'jot__b'),\n",
       " (datetime.date(2021, 2, 18), 'neetuanjle_nitu'),\n",
       " (datetime.date(2021, 2, 14), 'rebelpacifist')]"
      ]
     },
     "execution_count": 5,
     "metadata": {},
     "output_type": "execute_result"
    }
   ],
   "source": [
    "exam = q1_memory(file_path)\n",
    "exam"
   ]
  },
  {
   "cell_type": "code",
   "execution_count": 2,
   "metadata": {},
   "outputs": [
    {
     "name": "stdout",
     "output_type": "stream",
     "text": [
      "<class 'dict'>\n"
     ]
    }
   ],
   "source": [
    "import emoji\n",
    "\n",
    "print(type(emoji.EMOJI_DATA))"
   ]
  },
  {
   "cell_type": "code",
   "execution_count": 8,
   "metadata": {},
   "outputs": [],
   "source": [
    "import pandas as pd\n",
    "import re\n",
    "def extract_user_mentions(text: str) -> list:\n",
    "    return re.findall(r'@(\\w+)', text)"
   ]
  },
  {
   "cell_type": "code",
   "execution_count": 11,
   "metadata": {},
   "outputs": [
    {
     "name": "stdout",
     "output_type": "stream",
     "text": [
      "['Kisanektamorcha', 'fsdf']\n"
     ]
    }
   ],
   "source": [
    "print(extract_user_mentions('\\n@Kisanektamorcha @fsdf fdsgfdg'))"
   ]
  },
  {
   "cell_type": "code",
   "execution_count": 39,
   "metadata": {},
   "outputs": [
    {
     "name": "stdout",
     "output_type": "stream",
     "text": [
      "[('🙏', 7286), ('😂', 3072), ('🚜', 2972), ('✊', 2411), ('🌾', 2363), ('🏻', 2080), ('❤', 1779), ('🤣', 1668), ('🏽', 1218), ('👇', 1108)]\n",
      "    emoji  count\n",
      "466     🙏   7286\n",
      "397     😂   3072\n",
      "480     🚜   2972\n",
      "51      ✊   2411\n",
      "115     🌾   2363\n",
      "196     🏻   2080\n",
      "65      ❤   1779\n",
      "531     🤣   1668\n",
      "198     🏽   1218\n",
      "246     👇   1108\n"
     ]
    }
   ],
   "source": [
    "chunks = pd.read_json(file_path, lines=True, chunksize=10000)\n",
    "dfs = []\n",
    "    \n",
    "for chunk in chunks:\n",
    "    emojis_list = chunk['content'].apply(extract_emojis).explode()\n",
    "    emojis_count = emojis_list.to_frame(name='emoji').groupby('emoji').size().reset_index(name='count')\n",
    "    dfs.append(emojis_count)\n",
    "    \n",
    "all_counts = pd.concat(dfs)\n",
    "final_counts = all_counts.groupby('emoji')['count'].sum().reset_index()\n",
    "top_10_days = final_counts.sort_values('count', ascending=False).head(10)\n",
    "\n",
    "print([(row['emoji'], int(row['count'])) for _, row in top_10_days.iterrows()])\n",
    "\n",
    "print(top_10_days)"
   ]
  },
  {
   "cell_type": "code",
   "execution_count": null,
   "metadata": {},
   "outputs": [],
   "source": [
    "test_file_path = \"../test/resources/twitter_test.json\"\n",
    "file_path = \"../farmers-protest-tweets-2021-2-4.json\""
   ]
  }
 ],
 "metadata": {
  "kernelspec": {
   "display_name": "Python 3 (ipykernel)",
   "language": "python",
   "name": "python3"
  },
  "language_info": {
   "codemirror_mode": {
    "name": "ipython",
    "version": 3
   },
   "file_extension": ".py",
   "mimetype": "text/x-python",
   "name": "python",
   "nbconvert_exporter": "python",
   "pygments_lexer": "ipython3",
   "version": "3.11.10"
  }
 },
 "nbformat": 4,
 "nbformat_minor": 4
}
